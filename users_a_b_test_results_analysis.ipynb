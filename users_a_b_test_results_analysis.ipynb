{
 "cells": [
  {
   "cell_type": "code",
   "execution_count": 1,
   "id": "ced82da0",
   "metadata": {},
   "outputs": [],
   "source": [
    "import pandas as pd\n",
    "import numpy as np\n",
    "import scipy.stats as stat\n",
    "import matplotlib.pyplot as plt\n",
    "%matplotlib inline\n",
    "import seaborn as sns"
   ]
  },
  {
   "cell_type": "code",
   "execution_count": 2,
   "id": "e944e280",
   "metadata": {},
   "outputs": [
    {
     "data": {
      "text/html": [
       "<div>\n",
       "<style scoped>\n",
       "    .dataframe tbody tr th:only-of-type {\n",
       "        vertical-align: middle;\n",
       "    }\n",
       "\n",
       "    .dataframe tbody tr th {\n",
       "        vertical-align: top;\n",
       "    }\n",
       "\n",
       "    .dataframe thead th {\n",
       "        text-align: right;\n",
       "    }\n",
       "</style>\n",
       "<table border=\"1\" class=\"dataframe\">\n",
       "  <thead>\n",
       "    <tr style=\"text-align: right;\">\n",
       "      <th></th>\n",
       "      <th>USER_ID</th>\n",
       "      <th>VARIANT_NAME</th>\n",
       "      <th>REVENUE</th>\n",
       "    </tr>\n",
       "  </thead>\n",
       "  <tbody>\n",
       "    <tr>\n",
       "      <th>0</th>\n",
       "      <td>737</td>\n",
       "      <td>variant</td>\n",
       "      <td>0.0</td>\n",
       "    </tr>\n",
       "    <tr>\n",
       "      <th>1</th>\n",
       "      <td>2423</td>\n",
       "      <td>control</td>\n",
       "      <td>0.0</td>\n",
       "    </tr>\n",
       "    <tr>\n",
       "      <th>2</th>\n",
       "      <td>9411</td>\n",
       "      <td>control</td>\n",
       "      <td>0.0</td>\n",
       "    </tr>\n",
       "    <tr>\n",
       "      <th>3</th>\n",
       "      <td>7311</td>\n",
       "      <td>control</td>\n",
       "      <td>0.0</td>\n",
       "    </tr>\n",
       "    <tr>\n",
       "      <th>4</th>\n",
       "      <td>6174</td>\n",
       "      <td>variant</td>\n",
       "      <td>0.0</td>\n",
       "    </tr>\n",
       "    <tr>\n",
       "      <th>...</th>\n",
       "      <td>...</td>\n",
       "      <td>...</td>\n",
       "      <td>...</td>\n",
       "    </tr>\n",
       "    <tr>\n",
       "      <th>9995</th>\n",
       "      <td>1981</td>\n",
       "      <td>control</td>\n",
       "      <td>0.0</td>\n",
       "    </tr>\n",
       "    <tr>\n",
       "      <th>9996</th>\n",
       "      <td>502</td>\n",
       "      <td>variant</td>\n",
       "      <td>0.0</td>\n",
       "    </tr>\n",
       "    <tr>\n",
       "      <th>9997</th>\n",
       "      <td>9214</td>\n",
       "      <td>variant</td>\n",
       "      <td>0.0</td>\n",
       "    </tr>\n",
       "    <tr>\n",
       "      <th>9998</th>\n",
       "      <td>7741</td>\n",
       "      <td>control</td>\n",
       "      <td>0.0</td>\n",
       "    </tr>\n",
       "    <tr>\n",
       "      <th>9999</th>\n",
       "      <td>9468</td>\n",
       "      <td>control</td>\n",
       "      <td>0.0</td>\n",
       "    </tr>\n",
       "  </tbody>\n",
       "</table>\n",
       "<p>10000 rows × 3 columns</p>\n",
       "</div>"
      ],
      "text/plain": [
       "      USER_ID VARIANT_NAME  REVENUE\n",
       "0         737      variant      0.0\n",
       "1        2423      control      0.0\n",
       "2        9411      control      0.0\n",
       "3        7311      control      0.0\n",
       "4        6174      variant      0.0\n",
       "...       ...          ...      ...\n",
       "9995     1981      control      0.0\n",
       "9996      502      variant      0.0\n",
       "9997     9214      variant      0.0\n",
       "9998     7741      control      0.0\n",
       "9999     9468      control      0.0\n",
       "\n",
       "[10000 rows x 3 columns]"
      ]
     },
     "execution_count": 2,
     "metadata": {},
     "output_type": "execute_result"
    }
   ],
   "source": [
    "dataset = pd.read_csv('AB_Test_Results.csv')\n",
    "dataset"
   ]
  },
  {
   "cell_type": "code",
   "execution_count": 3,
   "id": "f2bca0f8",
   "metadata": {},
   "outputs": [
    {
     "data": {
      "text/html": [
       "<div>\n",
       "<style scoped>\n",
       "    .dataframe tbody tr th:only-of-type {\n",
       "        vertical-align: middle;\n",
       "    }\n",
       "\n",
       "    .dataframe tbody tr th {\n",
       "        vertical-align: top;\n",
       "    }\n",
       "\n",
       "    .dataframe thead th {\n",
       "        text-align: right;\n",
       "    }\n",
       "</style>\n",
       "<table border=\"1\" class=\"dataframe\">\n",
       "  <thead>\n",
       "    <tr style=\"text-align: right;\">\n",
       "      <th></th>\n",
       "      <th>user_id</th>\n",
       "      <th>variant_name</th>\n",
       "      <th>revenue</th>\n",
       "    </tr>\n",
       "  </thead>\n",
       "  <tbody>\n",
       "    <tr>\n",
       "      <th>0</th>\n",
       "      <td>737</td>\n",
       "      <td>variant</td>\n",
       "      <td>0.0</td>\n",
       "    </tr>\n",
       "    <tr>\n",
       "      <th>1</th>\n",
       "      <td>2423</td>\n",
       "      <td>control</td>\n",
       "      <td>0.0</td>\n",
       "    </tr>\n",
       "    <tr>\n",
       "      <th>2</th>\n",
       "      <td>9411</td>\n",
       "      <td>control</td>\n",
       "      <td>0.0</td>\n",
       "    </tr>\n",
       "    <tr>\n",
       "      <th>3</th>\n",
       "      <td>7311</td>\n",
       "      <td>control</td>\n",
       "      <td>0.0</td>\n",
       "    </tr>\n",
       "    <tr>\n",
       "      <th>4</th>\n",
       "      <td>6174</td>\n",
       "      <td>variant</td>\n",
       "      <td>0.0</td>\n",
       "    </tr>\n",
       "    <tr>\n",
       "      <th>...</th>\n",
       "      <td>...</td>\n",
       "      <td>...</td>\n",
       "      <td>...</td>\n",
       "    </tr>\n",
       "    <tr>\n",
       "      <th>9995</th>\n",
       "      <td>1981</td>\n",
       "      <td>control</td>\n",
       "      <td>0.0</td>\n",
       "    </tr>\n",
       "    <tr>\n",
       "      <th>9996</th>\n",
       "      <td>502</td>\n",
       "      <td>variant</td>\n",
       "      <td>0.0</td>\n",
       "    </tr>\n",
       "    <tr>\n",
       "      <th>9997</th>\n",
       "      <td>9214</td>\n",
       "      <td>variant</td>\n",
       "      <td>0.0</td>\n",
       "    </tr>\n",
       "    <tr>\n",
       "      <th>9998</th>\n",
       "      <td>7741</td>\n",
       "      <td>control</td>\n",
       "      <td>0.0</td>\n",
       "    </tr>\n",
       "    <tr>\n",
       "      <th>9999</th>\n",
       "      <td>9468</td>\n",
       "      <td>control</td>\n",
       "      <td>0.0</td>\n",
       "    </tr>\n",
       "  </tbody>\n",
       "</table>\n",
       "<p>10000 rows × 3 columns</p>\n",
       "</div>"
      ],
      "text/plain": [
       "      user_id variant_name  revenue\n",
       "0         737      variant      0.0\n",
       "1        2423      control      0.0\n",
       "2        9411      control      0.0\n",
       "3        7311      control      0.0\n",
       "4        6174      variant      0.0\n",
       "...       ...          ...      ...\n",
       "9995     1981      control      0.0\n",
       "9996      502      variant      0.0\n",
       "9997     9214      variant      0.0\n",
       "9998     7741      control      0.0\n",
       "9999     9468      control      0.0\n",
       "\n",
       "[10000 rows x 3 columns]"
      ]
     },
     "execution_count": 3,
     "metadata": {},
     "output_type": "execute_result"
    }
   ],
   "source": [
    "dataset = dataset.rename(lambda x: x.lower(), axis='columns')\n",
    "dataset"
   ]
  },
  {
   "cell_type": "markdown",
   "id": "49ece712",
   "metadata": {},
   "source": [
    "1.Проанализируйте есть ли пользователи, которые попали в обе группы тестирования. Если да, то исключите их."
   ]
  },
  {
   "cell_type": "code",
   "execution_count": 4,
   "id": "61039004",
   "metadata": {
    "scrolled": true
   },
   "outputs": [
    {
     "data": {
      "text/plain": [
       "0        737\n",
       "4       6174\n",
       "5       2380\n",
       "8       6205\n",
       "13      2529\n",
       "        ... \n",
       "9991    8864\n",
       "9992    9303\n",
       "9993    2400\n",
       "9996     502\n",
       "9997    9214\n",
       "Name: user_id, Length: 5016, dtype: int64"
      ]
     },
     "execution_count": 4,
     "metadata": {},
     "output_type": "execute_result"
    }
   ],
   "source": [
    "variant_dataset = dataset.loc[dataset.variant_name == 'variant'].user_id\n",
    "variant_dataset"
   ]
  },
  {
   "cell_type": "code",
   "execution_count": 5,
   "id": "274254e7",
   "metadata": {},
   "outputs": [
    {
     "data": {
      "text/plain": [
       "1       2423\n",
       "2       9411\n",
       "3       7311\n",
       "6       2849\n",
       "7       9168\n",
       "        ... \n",
       "9988     428\n",
       "9994    3129\n",
       "9995    1981\n",
       "9998    7741\n",
       "9999    9468\n",
       "Name: user_id, Length: 4984, dtype: int64"
      ]
     },
     "execution_count": 5,
     "metadata": {},
     "output_type": "execute_result"
    }
   ],
   "source": [
    "control_dataset = dataset.loc[dataset.variant_name == 'control'].user_id\n",
    "control_dataset"
   ]
  },
  {
   "cell_type": "code",
   "execution_count": 6,
   "id": "7d2994e6",
   "metadata": {},
   "outputs": [],
   "source": [
    "users_in_both_datasets = variant_dataset[variant_dataset.isin(control_dataset)].values"
   ]
  },
  {
   "cell_type": "code",
   "execution_count": 7,
   "id": "8e90b639",
   "metadata": {},
   "outputs": [
    {
     "data": {
      "text/plain": [
       "(1972,)"
      ]
     },
     "execution_count": 7,
     "metadata": {},
     "output_type": "execute_result"
    }
   ],
   "source": [
    "users_in_both_datasets.shape"
   ]
  },
  {
   "cell_type": "markdown",
   "id": "a36ae6ba",
   "metadata": {},
   "source": [
    "Датасет из юзеров, которые есть в обоих выборках непустой -> нужно их убрать из нашего датасета с результатами AB - тестирования"
   ]
  },
  {
   "cell_type": "code",
   "execution_count": 8,
   "id": "7bca4268",
   "metadata": {},
   "outputs": [],
   "source": [
    "dataset.drop(dataset[dataset.user_id.isin(users_in_both_datasets)].index, inplace=True)"
   ]
  },
  {
   "cell_type": "code",
   "execution_count": 9,
   "id": "9f5255fb",
   "metadata": {},
   "outputs": [
    {
     "data": {
      "text/html": [
       "<div>\n",
       "<style scoped>\n",
       "    .dataframe tbody tr th:only-of-type {\n",
       "        vertical-align: middle;\n",
       "    }\n",
       "\n",
       "    .dataframe tbody tr th {\n",
       "        vertical-align: top;\n",
       "    }\n",
       "\n",
       "    .dataframe thead th {\n",
       "        text-align: right;\n",
       "    }\n",
       "</style>\n",
       "<table border=\"1\" class=\"dataframe\">\n",
       "  <thead>\n",
       "    <tr style=\"text-align: right;\">\n",
       "      <th></th>\n",
       "      <th>user_id</th>\n",
       "      <th>variant_name</th>\n",
       "      <th>revenue</th>\n",
       "    </tr>\n",
       "  </thead>\n",
       "  <tbody>\n",
       "    <tr>\n",
       "      <th>0</th>\n",
       "      <td>737</td>\n",
       "      <td>variant</td>\n",
       "      <td>0.0</td>\n",
       "    </tr>\n",
       "    <tr>\n",
       "      <th>4</th>\n",
       "      <td>6174</td>\n",
       "      <td>variant</td>\n",
       "      <td>0.0</td>\n",
       "    </tr>\n",
       "    <tr>\n",
       "      <th>5</th>\n",
       "      <td>2380</td>\n",
       "      <td>variant</td>\n",
       "      <td>0.0</td>\n",
       "    </tr>\n",
       "    <tr>\n",
       "      <th>7</th>\n",
       "      <td>9168</td>\n",
       "      <td>control</td>\n",
       "      <td>0.0</td>\n",
       "    </tr>\n",
       "    <tr>\n",
       "      <th>9</th>\n",
       "      <td>7548</td>\n",
       "      <td>control</td>\n",
       "      <td>0.0</td>\n",
       "    </tr>\n",
       "    <tr>\n",
       "      <th>...</th>\n",
       "      <td>...</td>\n",
       "      <td>...</td>\n",
       "      <td>...</td>\n",
       "    </tr>\n",
       "    <tr>\n",
       "      <th>9993</th>\n",
       "      <td>2400</td>\n",
       "      <td>variant</td>\n",
       "      <td>0.0</td>\n",
       "    </tr>\n",
       "    <tr>\n",
       "      <th>9994</th>\n",
       "      <td>3129</td>\n",
       "      <td>control</td>\n",
       "      <td>0.0</td>\n",
       "    </tr>\n",
       "    <tr>\n",
       "      <th>9996</th>\n",
       "      <td>502</td>\n",
       "      <td>variant</td>\n",
       "      <td>0.0</td>\n",
       "    </tr>\n",
       "    <tr>\n",
       "      <th>9998</th>\n",
       "      <td>7741</td>\n",
       "      <td>control</td>\n",
       "      <td>0.0</td>\n",
       "    </tr>\n",
       "    <tr>\n",
       "      <th>9999</th>\n",
       "      <td>9468</td>\n",
       "      <td>control</td>\n",
       "      <td>0.0</td>\n",
       "    </tr>\n",
       "  </tbody>\n",
       "</table>\n",
       "<p>6070 rows × 3 columns</p>\n",
       "</div>"
      ],
      "text/plain": [
       "      user_id variant_name  revenue\n",
       "0         737      variant      0.0\n",
       "4        6174      variant      0.0\n",
       "5        2380      variant      0.0\n",
       "7        9168      control      0.0\n",
       "9        7548      control      0.0\n",
       "...       ...          ...      ...\n",
       "9993     2400      variant      0.0\n",
       "9994     3129      control      0.0\n",
       "9996      502      variant      0.0\n",
       "9998     7741      control      0.0\n",
       "9999     9468      control      0.0\n",
       "\n",
       "[6070 rows x 3 columns]"
      ]
     },
     "execution_count": 9,
     "metadata": {},
     "output_type": "execute_result"
    }
   ],
   "source": [
    "dataset"
   ]
  },
  {
   "cell_type": "markdown",
   "id": "529eccb4",
   "metadata": {},
   "source": [
    "2.Проанализируйте выбросы в данных с помощью диаграммы размаха («ящика с усами»). \n",
    "Поработайте с ними, чтобы исключить вероятность их влияния на результаты тестирования. "
   ]
  },
  {
   "cell_type": "code",
   "execution_count": 10,
   "id": "2999e366",
   "metadata": {},
   "outputs": [
    {
     "data": {
      "text/plain": [
       "<Axes: >"
      ]
     },
     "execution_count": 10,
     "metadata": {},
     "output_type": "execute_result"
    },
    {
     "data": {
      "image/png": "[encoded data removed]",
      "text/plain": [
       "<Figure size 640x480 with 1 Axes>"
      ]
     },
     "metadata": {},
     "output_type": "display_data"
    }
   ],
   "source": [
    "dataset.revenue.hist()"
   ]
  },
  {
   "cell_type": "code",
   "execution_count": 11,
   "id": "0e85287b",
   "metadata": {},
   "outputs": [
    {
     "data": {
      "text/plain": [
       "<Axes: xlabel='variant_name', ylabel='revenue'>"
      ]
     },
     "execution_count": 11,
     "metadata": {},
     "output_type": "execute_result"
    },
    {
     "data": {
      "image/png": "[encoded data removed]",
      "text/plain": [
       "<Figure size 640x480 with 1 Axes>"
      ]
     },
     "metadata": {},
     "output_type": "display_data"
    }
   ],
   "source": [
    "sns.boxplot(data=dataset, x='variant_name', y='revenue')"
   ]
  },
  {
   "cell_type": "code",
   "execution_count": 12,
   "id": "bba83cac",
   "metadata": {},
   "outputs": [
    {
     "data": {
      "text/plain": [
       "0.00     5973\n",
       "1.25        6\n",
       "4.27        3\n",
       "2.99        3\n",
       "4.33        3\n",
       "         ... \n",
       "0.86        1\n",
       "2.02        1\n",
       "3.28        1\n",
       "19.47       1\n",
       "2.93        1\n",
       "Name: revenue, Length: 70, dtype: int64"
      ]
     },
     "execution_count": 12,
     "metadata": {},
     "output_type": "execute_result"
    }
   ],
   "source": [
    "dataset.revenue.value_counts()"
   ]
  },
  {
   "cell_type": "markdown",
   "id": "feba0003",
   "metadata": {},
   "source": [
    "Поскольку ненулевых значений ничтожно мало, а для анализа они очень важны, то выбросом будем считать только значение около 200"
   ]
  },
  {
   "cell_type": "markdown",
   "id": "dff697a9",
   "metadata": {},
   "source": [
    "Исключим это значение из выборки"
   ]
  },
  {
   "cell_type": "code",
   "execution_count": 13,
   "id": "35364e3a",
   "metadata": {},
   "outputs": [],
   "source": [
    "dataset.drop(dataset[dataset.revenue == dataset.revenue.max()].index, inplace=True)"
   ]
  },
  {
   "cell_type": "code",
   "execution_count": 14,
   "id": "08c5ace3",
   "metadata": {},
   "outputs": [
    {
     "data": {
      "text/plain": [
       "<Axes: xlabel='variant_name', ylabel='revenue'>"
      ]
     },
     "execution_count": 14,
     "metadata": {},
     "output_type": "execute_result"
    },
    {
     "data": {
      "image/png": "[encoded data removed]",
      "text/plain": [
       "<Figure size 640x480 with 1 Axes>"
      ]
     },
     "metadata": {},
     "output_type": "display_data"
    }
   ],
   "source": [
    "sns.boxplot(data=dataset, x='variant_name', y='revenue')"
   ]
  },
  {
   "cell_type": "code",
   "execution_count": 15,
   "id": "7a0597b3",
   "metadata": {},
   "outputs": [
    {
     "data": {
      "text/plain": [
       "<Axes: >"
      ]
     },
     "execution_count": 15,
     "metadata": {},
     "output_type": "execute_result"
    },
    {
     "data": {
      "image/png": "[encoded data removed]",
      "text/plain": [
       "<Figure size 640x480 with 1 Axes>"
      ]
     },
     "metadata": {},
     "output_type": "display_data"
    }
   ],
   "source": [
    "dataset.revenue.hist()"
   ]
  },
  {
   "cell_type": "code",
   "execution_count": 16,
   "id": "af62b0f2",
   "metadata": {},
   "outputs": [
    {
     "data": {
      "text/plain": [
       "<Axes: >"
      ]
     },
     "execution_count": 16,
     "metadata": {},
     "output_type": "execute_result"
    },
    {
     "data": {
      "image/png": "[encoded data removed]",
      "text/plain": [
       "<Figure size 640x480 with 1 Axes>"
      ]
     },
     "metadata": {},
     "output_type": "display_data"
    }
   ],
   "source": [
    "dataset[dataset.revenue > 0].revenue.hist(density=True) # распределение платящих пользователей"
   ]
  },
  {
   "cell_type": "markdown",
   "id": "4ee34d2d",
   "metadata": {},
   "source": [
    "3.Исключите дубли в записях для одного и того же пользователя. "
   ]
  },
  {
   "cell_type": "code",
   "execution_count": 17,
   "id": "4c908216",
   "metadata": {},
   "outputs": [
    {
     "data": {
      "text/plain": [
       "5652    6\n",
       "1782    5\n",
       "1339    5\n",
       "9396    4\n",
       "1053    4\n",
       "       ..\n",
       "2924    1\n",
       "293     1\n",
       "9670    1\n",
       "7401    1\n",
       "9468    1\n",
       "Name: user_id, Length: 4782, dtype: int64"
      ]
     },
     "execution_count": 17,
     "metadata": {},
     "output_type": "execute_result"
    }
   ],
   "source": [
    "dataset.user_id.value_counts()"
   ]
  },
  {
   "cell_type": "code",
   "execution_count": 18,
   "id": "b33fffab",
   "metadata": {},
   "outputs": [],
   "source": [
    "dataset.drop_duplicates(subset=['user_id'], inplace=True)"
   ]
  },
  {
   "cell_type": "code",
   "execution_count": 19,
   "id": "f40588ad",
   "metadata": {},
   "outputs": [
    {
     "data": {
      "text/html": [
       "<div>\n",
       "<style scoped>\n",
       "    .dataframe tbody tr th:only-of-type {\n",
       "        vertical-align: middle;\n",
       "    }\n",
       "\n",
       "    .dataframe tbody tr th {\n",
       "        vertical-align: top;\n",
       "    }\n",
       "\n",
       "    .dataframe thead th {\n",
       "        text-align: right;\n",
       "    }\n",
       "</style>\n",
       "<table border=\"1\" class=\"dataframe\">\n",
       "  <thead>\n",
       "    <tr style=\"text-align: right;\">\n",
       "      <th></th>\n",
       "      <th>user_id</th>\n",
       "      <th>variant_name</th>\n",
       "      <th>revenue</th>\n",
       "    </tr>\n",
       "  </thead>\n",
       "  <tbody>\n",
       "    <tr>\n",
       "      <th>0</th>\n",
       "      <td>737</td>\n",
       "      <td>variant</td>\n",
       "      <td>0.0</td>\n",
       "    </tr>\n",
       "    <tr>\n",
       "      <th>4</th>\n",
       "      <td>6174</td>\n",
       "      <td>variant</td>\n",
       "      <td>0.0</td>\n",
       "    </tr>\n",
       "    <tr>\n",
       "      <th>5</th>\n",
       "      <td>2380</td>\n",
       "      <td>variant</td>\n",
       "      <td>0.0</td>\n",
       "    </tr>\n",
       "    <tr>\n",
       "      <th>7</th>\n",
       "      <td>9168</td>\n",
       "      <td>control</td>\n",
       "      <td>0.0</td>\n",
       "    </tr>\n",
       "    <tr>\n",
       "      <th>9</th>\n",
       "      <td>7548</td>\n",
       "      <td>control</td>\n",
       "      <td>0.0</td>\n",
       "    </tr>\n",
       "    <tr>\n",
       "      <th>...</th>\n",
       "      <td>...</td>\n",
       "      <td>...</td>\n",
       "      <td>...</td>\n",
       "    </tr>\n",
       "    <tr>\n",
       "      <th>9988</th>\n",
       "      <td>428</td>\n",
       "      <td>control</td>\n",
       "      <td>0.0</td>\n",
       "    </tr>\n",
       "    <tr>\n",
       "      <th>9991</th>\n",
       "      <td>8864</td>\n",
       "      <td>variant</td>\n",
       "      <td>0.0</td>\n",
       "    </tr>\n",
       "    <tr>\n",
       "      <th>9996</th>\n",
       "      <td>502</td>\n",
       "      <td>variant</td>\n",
       "      <td>0.0</td>\n",
       "    </tr>\n",
       "    <tr>\n",
       "      <th>9998</th>\n",
       "      <td>7741</td>\n",
       "      <td>control</td>\n",
       "      <td>0.0</td>\n",
       "    </tr>\n",
       "    <tr>\n",
       "      <th>9999</th>\n",
       "      <td>9468</td>\n",
       "      <td>control</td>\n",
       "      <td>0.0</td>\n",
       "    </tr>\n",
       "  </tbody>\n",
       "</table>\n",
       "<p>4782 rows × 3 columns</p>\n",
       "</div>"
      ],
      "text/plain": [
       "      user_id variant_name  revenue\n",
       "0         737      variant      0.0\n",
       "4        6174      variant      0.0\n",
       "5        2380      variant      0.0\n",
       "7        9168      control      0.0\n",
       "9        7548      control      0.0\n",
       "...       ...          ...      ...\n",
       "9988      428      control      0.0\n",
       "9991     8864      variant      0.0\n",
       "9996      502      variant      0.0\n",
       "9998     7741      control      0.0\n",
       "9999     9468      control      0.0\n",
       "\n",
       "[4782 rows x 3 columns]"
      ]
     },
     "execution_count": 19,
     "metadata": {},
     "output_type": "execute_result"
    }
   ],
   "source": [
    "dataset"
   ]
  },
  {
   "cell_type": "code",
   "execution_count": 20,
   "id": "c8fa1647",
   "metadata": {},
   "outputs": [
    {
     "data": {
      "text/plain": [
       "737     1\n",
       "9168    1\n",
       "8395    1\n",
       "1184    1\n",
       "7165    1\n",
       "       ..\n",
       "428     1\n",
       "8864    1\n",
       "502     1\n",
       "7741    1\n",
       "9468    1\n",
       "Name: user_id, Length: 4782, dtype: int64"
      ]
     },
     "execution_count": 20,
     "metadata": {},
     "output_type": "execute_result"
    }
   ],
   "source": [
    "dataset.user_id.value_counts().sort_values(ascending=False)"
   ]
  },
  {
   "cell_type": "markdown",
   "id": "9c6c96ba",
   "metadata": {},
   "source": [
    "Пользователей - дубликатов теперь нет"
   ]
  },
  {
   "cell_type": "markdown",
   "id": "17bcfdba",
   "metadata": {},
   "source": [
    "4. Используйте разные статистики для сравнения групп платящих и не платящих пользователей. "
   ]
  },
  {
   "cell_type": "code",
   "execution_count": 21,
   "id": "68e4ff20",
   "metadata": {},
   "outputs": [
    {
     "data": {
      "text/plain": [
       "139      4.27\n",
       "149      1.75\n",
       "1257     3.75\n",
       "1793     1.51\n",
       "1901     3.98\n",
       "2314     0.04\n",
       "2482    23.04\n",
       "2624     1.00\n",
       "2702     8.70\n",
       "2726    10.82\n",
       "2920     2.72\n",
       "3385     2.27\n",
       "3513     2.14\n",
       "4065     0.50\n",
       "4374     5.08\n",
       "4561    12.99\n",
       "4575     2.16\n",
       "4711     3.28\n",
       "5212    12.99\n",
       "5217    19.47\n",
       "5751     2.50\n",
       "5924     3.83\n",
       "6843     2.95\n",
       "7151     7.27\n",
       "7221     1.25\n",
       "7500     0.90\n",
       "7949     2.99\n",
       "8227     1.30\n",
       "8301     5.98\n",
       "8838     0.02\n",
       "8912     1.23\n",
       "9112     2.17\n",
       "9139     0.60\n",
       "9977     1.01\n",
       "Name: revenue, dtype: float64"
      ]
     },
     "execution_count": 21,
     "metadata": {},
     "output_type": "execute_result"
    }
   ],
   "source": [
    "paying_variant = dataset[(dataset.revenue > 0) & (dataset.variant_name == 'variant')].revenue\n",
    "paying_variant"
   ]
  },
  {
   "cell_type": "code",
   "execution_count": 22,
   "id": "74d3099e",
   "metadata": {},
   "outputs": [
    {
     "data": {
      "text/plain": [
       "49       3.25\n",
       "152      2.99\n",
       "333      9.91\n",
       "628     10.63\n",
       "758     17.05\n",
       "853      2.17\n",
       "1024     1.25\n",
       "1148     4.87\n",
       "1468    11.98\n",
       "1530     1.56\n",
       "1818     3.99\n",
       "2583     2.01\n",
       "2698     4.27\n",
       "2759     4.95\n",
       "2974     0.02\n",
       "3298     1.01\n",
       "3740     8.66\n",
       "4031    14.24\n",
       "4096     0.86\n",
       "4217     2.02\n",
       "4454     4.33\n",
       "4991     0.50\n",
       "5430     1.00\n",
       "5709     1.25\n",
       "6167     2.99\n",
       "6378     1.25\n",
       "6483     9.99\n",
       "6515     2.34\n",
       "6786     2.17\n",
       "7050     2.16\n",
       "7140     0.02\n",
       "7471     2.60\n",
       "7568     8.66\n",
       "8129     6.35\n",
       "9019    14.07\n",
       "9241     0.58\n",
       "9327     1.66\n",
       "9466     1.78\n",
       "9711     2.93\n",
       "Name: revenue, dtype: float64"
      ]
     },
     "execution_count": 22,
     "metadata": {},
     "output_type": "execute_result"
    }
   ],
   "source": [
    "paying_control = dataset[(dataset.revenue > 0) & (dataset.variant_name == 'control')].revenue\n",
    "paying_control"
   ]
  },
  {
   "cell_type": "code",
   "execution_count": 23,
   "id": "81db4b28",
   "metadata": {},
   "outputs": [
    {
     "data": {
      "text/plain": [
       "34"
      ]
     },
     "execution_count": 23,
     "metadata": {},
     "output_type": "execute_result"
    }
   ],
   "source": [
    "paying_variant.shape[0]"
   ]
  },
  {
   "cell_type": "code",
   "execution_count": 28,
   "id": "6d0741b1",
   "metadata": {},
   "outputs": [
    {
     "data": {
      "text/plain": [
       "39"
      ]
     },
     "execution_count": 28,
     "metadata": {},
     "output_type": "execute_result"
    }
   ],
   "source": [
    "paying_control.shape[0]"
   ]
  },
  {
   "cell_type": "code",
   "execution_count": 29,
   "id": "929d29ca",
   "metadata": {},
   "outputs": [
    {
     "data": {
      "text/plain": [
       "(648.0, 0.8725765189590362)"
      ]
     },
     "execution_count": 29,
     "metadata": {},
     "output_type": "execute_result"
    }
   ],
   "source": [
    "U, p = stat.mannwhitneyu(x=paying_variant, y=paying_control)\n",
    "U, p"
   ]
  },
  {
   "cell_type": "markdown",
   "id": "6f742605",
   "metadata": {},
   "source": [
    "При уровне значимости 5 % различия не являются статистически достоверными и носят случайный характер "
   ]
  },
  {
   "cell_type": "markdown",
   "id": "b55e4f22",
   "metadata": {},
   "source": [
    "5. Проверьте распределение на нормальность, используя разные статистические тесты (Шапиро-Уилка, Манна-Уитни, бутстраппинг и т.д.)"
   ]
  },
  {
   "cell_type": "code",
   "execution_count": 30,
   "id": "13b3bab9",
   "metadata": {},
   "outputs": [
    {
     "data": {
      "text/plain": [
       "ShapiroResult(statistic=0.8174775838851929, pvalue=1.966639501915779e-05)"
      ]
     },
     "execution_count": 30,
     "metadata": {},
     "output_type": "execute_result"
    }
   ],
   "source": [
    "stat.shapiro(paying_control)"
   ]
  },
  {
   "cell_type": "code",
   "execution_count": 31,
   "id": "2ab7d339",
   "metadata": {},
   "outputs": [
    {
     "data": {
      "text/plain": [
       "ShapiroResult(statistic=0.7321643829345703, pvalue=1.593363776919432e-06)"
      ]
     },
     "execution_count": 31,
     "metadata": {},
     "output_type": "execute_result"
    }
   ],
   "source": [
    "stat.shapiro(paying_variant)"
   ]
  },
  {
   "cell_type": "markdown",
   "id": "be6ce11d",
   "metadata": {},
   "source": [
    "По результатам теста Шапиро-Уилка при уровне значимости 5 % можно отвергнуть гипотезу \n",
    "о нормальности распределения платящих клиентов в variant и control"
   ]
  },
  {
   "cell_type": "markdown",
   "id": "756e8689",
   "metadata": {},
   "source": [
    "6.Сделайте выводы по результатам A/B-тестирования."
   ]
  },
  {
   "cell_type": "markdown",
   "id": "618fe869",
   "metadata": {},
   "source": [
    "По результатам A/B тестирования можно сделать вывод, что при уровне значимости 5 % различия не являются статистически достоверными и носят случайный характер "
   ]
  }
 ],
 "metadata": {
  "kernelspec": {
   "display_name": "Python 3 (ipykernel)",
   "language": "python",
   "name": "python3"
  },
  "language_info": {
   "codemirror_mode": {
    "name": "ipython",
    "version": 3
   },
   "file_extension": ".py",
   "mimetype": "text/x-python",
   "name": "python",
   "nbconvert_exporter": "python",
   "pygments_lexer": "ipython3",
   "version": "3.9.12"
  }
 },
 "nbformat": 4,
 "nbformat_minor": 5
}
